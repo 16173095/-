{
 "cells": [
  {
   "cell_type": "code",
   "execution_count": 2,
   "metadata": {},
   "outputs": [
    {
     "name": "stdout",
     "output_type": "stream",
     "text": [
      "1\n",
      "2 3\n",
      "aaa\n",
      "6 aaa\n"
     ]
    }
   ],
   "source": [
    "a = int(input())\n",
    "\n",
    "b, c = map(int,input().split())\n",
    "\n",
    "s = input()\n",
    "\n",
    "print(a+b+c,s)"
   ]
  },
  {
   "cell_type": "code",
   "execution_count": 18,
   "metadata": {},
   "outputs": [
    {
     "name": "stdout",
     "output_type": "stream",
     "text": [
      "3 4\n",
      "Even\n"
     ]
    }
   ],
   "source": [
    "a,b=map(int,input().split())\n",
    "if((a*b)%2):\n",
    "    print(\"Odd\")\n",
    "else:\n",
    "    print(\"Even\")"
   ]
  },
  {
   "cell_type": "code",
   "execution_count": 25,
   "metadata": {},
   "outputs": [
    {
     "name": "stdout",
     "output_type": "stream",
     "text": [
      "001\n",
      "1\n"
     ]
    }
   ],
   "source": [
    "a = input()\n",
    "print(int(a[0])+int(a[1])+int(a[2]))"
   ]
  },
  {
   "cell_type": "code",
   "execution_count": 37,
   "metadata": {},
   "outputs": [
    {
     "name": "stdout",
     "output_type": "stream",
     "text": [
      "6\n",
      "382253568 723152896 37802240 379425024 404894720 471526144\n",
      "8\n"
     ]
    }
   ],
   "source": [
    "n = int(input())\n",
    "a = list(map(int,input().split()))\n",
    "flag = True\n",
    "ans = -1\n",
    "while(flag):\n",
    "    for i in range(n):\n",
    "        if(a[i]%2):\n",
    "            flag = False\n",
    "            break\n",
    "        a[i] = a[i]/2\n",
    "    ans += 1\n",
    "print(ans)"
   ]
  },
  {
   "cell_type": "code",
   "execution_count": 40,
   "metadata": {},
   "outputs": [
    {
     "name": "stdout",
     "output_type": "stream",
     "text": [
      "30\n",
      "40\n",
      "50\n",
      "6000\n",
      "213\n"
     ]
    }
   ],
   "source": [
    "a = int(input()) + 1\n",
    "b = int(input()) + 1\n",
    "c = int(input()) + 1\n",
    "x = int(input())\n",
    "ans = 0\n",
    "for i in range(a):\n",
    "    for j in range(b):\n",
    "        for k in range(c):\n",
    "            if((x -500*i -100*j -50*k) == 0):\n",
    "                ans += 1\n",
    "                \n",
    "print(ans)"
   ]
  },
  {
   "cell_type": "code",
   "execution_count": 65,
   "metadata": {},
   "outputs": [
    {
     "name": "stdout",
     "output_type": "stream",
     "text": [
      "100 4 16\n",
      "4554\n"
     ]
    }
   ],
   "source": [
    "n,a,b = map(int,input().split())\n",
    "ans = 0\n",
    "for i in range(1,n+1):\n",
    "    k = 0\n",
    "    for j in range(len(str(i))):\n",
    "        k += int(str(i)[j])\n",
    "    if(k >= a and k <= b):\n",
    "        ans += i\n",
    "        \n",
    "print(ans)    "
   ]
  },
  {
   "cell_type": "code",
   "execution_count": null,
   "metadata": {},
   "outputs": [],
   "source": []
  }
 ],
 "metadata": {
  "kernelspec": {
   "display_name": "Python 3",
   "language": "python",
   "name": "python3"
  },
  "language_info": {
   "codemirror_mode": {
    "name": "ipython",
    "version": 3
   },
   "file_extension": ".py",
   "mimetype": "text/x-python",
   "name": "python",
   "nbconvert_exporter": "python",
   "pygments_lexer": "ipython3",
   "version": "3.7.1"
  }
 },
 "nbformat": 4,
 "nbformat_minor": 2
}
